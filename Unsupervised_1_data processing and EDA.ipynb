{
 "cells": [
  {
   "cell_type": "code",
   "execution_count": 1,
   "metadata": {},
   "outputs": [],
   "source": [
    "import numpy as np\n",
    "import pandas as pd\n",
    "import matplotlib as mpl\n",
    "import matplotlib.pyplot as plt\n",
    "import seaborn as sns"
   ]
  },
  {
   "cell_type": "code",
   "execution_count": 2,
   "metadata": {},
   "outputs": [],
   "source": [
    "train_data= pd.read_csv('application_train.csv')"
   ]
  },
  {
   "cell_type": "code",
   "execution_count": 3,
   "metadata": {},
   "outputs": [],
   "source": [
    "def missing_values_table(df):\n",
    "        # Total missing values\n",
    "        mis_val = df.isnull().sum()\n",
    "        \n",
    "        # Percentage of missing values\n",
    "        mis_val_percent = 100 * df.isnull().sum() / len(df)\n",
    "        \n",
    "        # Make a table with the results\n",
    "        mis_val_table = pd.concat([mis_val, mis_val_percent], axis=1)\n",
    "        \n",
    "        # Rename the columns\n",
    "        mis_val_table_ren_columns = mis_val_table.rename(\n",
    "        columns = {0 : 'Missing Values', 1 : '% of Total Values'})\n",
    "        \n",
    "        # Sort the table by percentage of missing descending\n",
    "        mis_val_table_ren_columns = mis_val_table_ren_columns[\n",
    "            mis_val_table_ren_columns.iloc[:,1] != 0].sort_values(\n",
    "        '% of Total Values', ascending=False).round(1)\n",
    "        \n",
    "        # Print some summary information\n",
    "        print (\"Your selected dataframe has \" + str(df.shape[1]) + \" columns.\\n\"      \n",
    "            \"There are \" + str(mis_val_table_ren_columns.shape[0]) +\n",
    "              \" columns that have missing values.\")\n",
    "        \n",
    "        # Return the dataframe with missing information\n",
    "        return mis_val_table_ren_columns"
   ]
  },
  {
   "cell_type": "code",
   "execution_count": 4,
   "metadata": {
    "scrolled": true
   },
   "outputs": [
    {
     "name": "stdout",
     "output_type": "stream",
     "text": [
      "Your selected dataframe has 122 columns.\n",
      "There are 67 columns that have missing values.\n"
     ]
    },
    {
     "data": {
      "text/html": [
       "<div>\n",
       "<style scoped>\n",
       "    .dataframe tbody tr th:only-of-type {\n",
       "        vertical-align: middle;\n",
       "    }\n",
       "\n",
       "    .dataframe tbody tr th {\n",
       "        vertical-align: top;\n",
       "    }\n",
       "\n",
       "    .dataframe thead th {\n",
       "        text-align: right;\n",
       "    }\n",
       "</style>\n",
       "<table border=\"1\" class=\"dataframe\">\n",
       "  <thead>\n",
       "    <tr style=\"text-align: right;\">\n",
       "      <th></th>\n",
       "      <th>Missing Values</th>\n",
       "      <th>% of Total Values</th>\n",
       "    </tr>\n",
       "  </thead>\n",
       "  <tbody>\n",
       "    <tr>\n",
       "      <th>COMMONAREA_MEDI</th>\n",
       "      <td>214865</td>\n",
       "      <td>69.9</td>\n",
       "    </tr>\n",
       "    <tr>\n",
       "      <th>COMMONAREA_AVG</th>\n",
       "      <td>214865</td>\n",
       "      <td>69.9</td>\n",
       "    </tr>\n",
       "    <tr>\n",
       "      <th>COMMONAREA_MODE</th>\n",
       "      <td>214865</td>\n",
       "      <td>69.9</td>\n",
       "    </tr>\n",
       "    <tr>\n",
       "      <th>NONLIVINGAPARTMENTS_MEDI</th>\n",
       "      <td>213514</td>\n",
       "      <td>69.4</td>\n",
       "    </tr>\n",
       "    <tr>\n",
       "      <th>NONLIVINGAPARTMENTS_MODE</th>\n",
       "      <td>213514</td>\n",
       "      <td>69.4</td>\n",
       "    </tr>\n",
       "    <tr>\n",
       "      <th>NONLIVINGAPARTMENTS_AVG</th>\n",
       "      <td>213514</td>\n",
       "      <td>69.4</td>\n",
       "    </tr>\n",
       "    <tr>\n",
       "      <th>FONDKAPREMONT_MODE</th>\n",
       "      <td>210295</td>\n",
       "      <td>68.4</td>\n",
       "    </tr>\n",
       "    <tr>\n",
       "      <th>LIVINGAPARTMENTS_MODE</th>\n",
       "      <td>210199</td>\n",
       "      <td>68.4</td>\n",
       "    </tr>\n",
       "    <tr>\n",
       "      <th>LIVINGAPARTMENTS_MEDI</th>\n",
       "      <td>210199</td>\n",
       "      <td>68.4</td>\n",
       "    </tr>\n",
       "    <tr>\n",
       "      <th>LIVINGAPARTMENTS_AVG</th>\n",
       "      <td>210199</td>\n",
       "      <td>68.4</td>\n",
       "    </tr>\n",
       "    <tr>\n",
       "      <th>FLOORSMIN_MODE</th>\n",
       "      <td>208642</td>\n",
       "      <td>67.8</td>\n",
       "    </tr>\n",
       "    <tr>\n",
       "      <th>FLOORSMIN_MEDI</th>\n",
       "      <td>208642</td>\n",
       "      <td>67.8</td>\n",
       "    </tr>\n",
       "    <tr>\n",
       "      <th>FLOORSMIN_AVG</th>\n",
       "      <td>208642</td>\n",
       "      <td>67.8</td>\n",
       "    </tr>\n",
       "    <tr>\n",
       "      <th>YEARS_BUILD_MODE</th>\n",
       "      <td>204488</td>\n",
       "      <td>66.5</td>\n",
       "    </tr>\n",
       "    <tr>\n",
       "      <th>YEARS_BUILD_MEDI</th>\n",
       "      <td>204488</td>\n",
       "      <td>66.5</td>\n",
       "    </tr>\n",
       "    <tr>\n",
       "      <th>YEARS_BUILD_AVG</th>\n",
       "      <td>204488</td>\n",
       "      <td>66.5</td>\n",
       "    </tr>\n",
       "    <tr>\n",
       "      <th>OWN_CAR_AGE</th>\n",
       "      <td>202929</td>\n",
       "      <td>66.0</td>\n",
       "    </tr>\n",
       "    <tr>\n",
       "      <th>LANDAREA_AVG</th>\n",
       "      <td>182590</td>\n",
       "      <td>59.4</td>\n",
       "    </tr>\n",
       "    <tr>\n",
       "      <th>LANDAREA_MEDI</th>\n",
       "      <td>182590</td>\n",
       "      <td>59.4</td>\n",
       "    </tr>\n",
       "    <tr>\n",
       "      <th>LANDAREA_MODE</th>\n",
       "      <td>182590</td>\n",
       "      <td>59.4</td>\n",
       "    </tr>\n",
       "    <tr>\n",
       "      <th>BASEMENTAREA_MEDI</th>\n",
       "      <td>179943</td>\n",
       "      <td>58.5</td>\n",
       "    </tr>\n",
       "    <tr>\n",
       "      <th>BASEMENTAREA_AVG</th>\n",
       "      <td>179943</td>\n",
       "      <td>58.5</td>\n",
       "    </tr>\n",
       "    <tr>\n",
       "      <th>BASEMENTAREA_MODE</th>\n",
       "      <td>179943</td>\n",
       "      <td>58.5</td>\n",
       "    </tr>\n",
       "    <tr>\n",
       "      <th>EXT_SOURCE_1</th>\n",
       "      <td>173378</td>\n",
       "      <td>56.4</td>\n",
       "    </tr>\n",
       "    <tr>\n",
       "      <th>NONLIVINGAREA_MEDI</th>\n",
       "      <td>169682</td>\n",
       "      <td>55.2</td>\n",
       "    </tr>\n",
       "    <tr>\n",
       "      <th>NONLIVINGAREA_MODE</th>\n",
       "      <td>169682</td>\n",
       "      <td>55.2</td>\n",
       "    </tr>\n",
       "    <tr>\n",
       "      <th>NONLIVINGAREA_AVG</th>\n",
       "      <td>169682</td>\n",
       "      <td>55.2</td>\n",
       "    </tr>\n",
       "    <tr>\n",
       "      <th>ELEVATORS_MEDI</th>\n",
       "      <td>163891</td>\n",
       "      <td>53.3</td>\n",
       "    </tr>\n",
       "    <tr>\n",
       "      <th>ELEVATORS_MODE</th>\n",
       "      <td>163891</td>\n",
       "      <td>53.3</td>\n",
       "    </tr>\n",
       "    <tr>\n",
       "      <th>ELEVATORS_AVG</th>\n",
       "      <td>163891</td>\n",
       "      <td>53.3</td>\n",
       "    </tr>\n",
       "    <tr>\n",
       "      <th>...</th>\n",
       "      <td>...</td>\n",
       "      <td>...</td>\n",
       "    </tr>\n",
       "    <tr>\n",
       "      <th>LIVINGAREA_MEDI</th>\n",
       "      <td>154350</td>\n",
       "      <td>50.2</td>\n",
       "    </tr>\n",
       "    <tr>\n",
       "      <th>LIVINGAREA_MODE</th>\n",
       "      <td>154350</td>\n",
       "      <td>50.2</td>\n",
       "    </tr>\n",
       "    <tr>\n",
       "      <th>LIVINGAREA_AVG</th>\n",
       "      <td>154350</td>\n",
       "      <td>50.2</td>\n",
       "    </tr>\n",
       "    <tr>\n",
       "      <th>HOUSETYPE_MODE</th>\n",
       "      <td>154297</td>\n",
       "      <td>50.2</td>\n",
       "    </tr>\n",
       "    <tr>\n",
       "      <th>FLOORSMAX_MEDI</th>\n",
       "      <td>153020</td>\n",
       "      <td>49.8</td>\n",
       "    </tr>\n",
       "    <tr>\n",
       "      <th>FLOORSMAX_AVG</th>\n",
       "      <td>153020</td>\n",
       "      <td>49.8</td>\n",
       "    </tr>\n",
       "    <tr>\n",
       "      <th>FLOORSMAX_MODE</th>\n",
       "      <td>153020</td>\n",
       "      <td>49.8</td>\n",
       "    </tr>\n",
       "    <tr>\n",
       "      <th>YEARS_BEGINEXPLUATATION_AVG</th>\n",
       "      <td>150007</td>\n",
       "      <td>48.8</td>\n",
       "    </tr>\n",
       "    <tr>\n",
       "      <th>YEARS_BEGINEXPLUATATION_MEDI</th>\n",
       "      <td>150007</td>\n",
       "      <td>48.8</td>\n",
       "    </tr>\n",
       "    <tr>\n",
       "      <th>YEARS_BEGINEXPLUATATION_MODE</th>\n",
       "      <td>150007</td>\n",
       "      <td>48.8</td>\n",
       "    </tr>\n",
       "    <tr>\n",
       "      <th>TOTALAREA_MODE</th>\n",
       "      <td>148431</td>\n",
       "      <td>48.3</td>\n",
       "    </tr>\n",
       "    <tr>\n",
       "      <th>EMERGENCYSTATE_MODE</th>\n",
       "      <td>145755</td>\n",
       "      <td>47.4</td>\n",
       "    </tr>\n",
       "    <tr>\n",
       "      <th>OCCUPATION_TYPE</th>\n",
       "      <td>96391</td>\n",
       "      <td>31.3</td>\n",
       "    </tr>\n",
       "    <tr>\n",
       "      <th>EXT_SOURCE_3</th>\n",
       "      <td>60965</td>\n",
       "      <td>19.8</td>\n",
       "    </tr>\n",
       "    <tr>\n",
       "      <th>AMT_REQ_CREDIT_BUREAU_WEEK</th>\n",
       "      <td>41519</td>\n",
       "      <td>13.5</td>\n",
       "    </tr>\n",
       "    <tr>\n",
       "      <th>AMT_REQ_CREDIT_BUREAU_DAY</th>\n",
       "      <td>41519</td>\n",
       "      <td>13.5</td>\n",
       "    </tr>\n",
       "    <tr>\n",
       "      <th>AMT_REQ_CREDIT_BUREAU_MON</th>\n",
       "      <td>41519</td>\n",
       "      <td>13.5</td>\n",
       "    </tr>\n",
       "    <tr>\n",
       "      <th>AMT_REQ_CREDIT_BUREAU_QRT</th>\n",
       "      <td>41519</td>\n",
       "      <td>13.5</td>\n",
       "    </tr>\n",
       "    <tr>\n",
       "      <th>AMT_REQ_CREDIT_BUREAU_HOUR</th>\n",
       "      <td>41519</td>\n",
       "      <td>13.5</td>\n",
       "    </tr>\n",
       "    <tr>\n",
       "      <th>AMT_REQ_CREDIT_BUREAU_YEAR</th>\n",
       "      <td>41519</td>\n",
       "      <td>13.5</td>\n",
       "    </tr>\n",
       "    <tr>\n",
       "      <th>NAME_TYPE_SUITE</th>\n",
       "      <td>1292</td>\n",
       "      <td>0.4</td>\n",
       "    </tr>\n",
       "    <tr>\n",
       "      <th>DEF_30_CNT_SOCIAL_CIRCLE</th>\n",
       "      <td>1021</td>\n",
       "      <td>0.3</td>\n",
       "    </tr>\n",
       "    <tr>\n",
       "      <th>OBS_60_CNT_SOCIAL_CIRCLE</th>\n",
       "      <td>1021</td>\n",
       "      <td>0.3</td>\n",
       "    </tr>\n",
       "    <tr>\n",
       "      <th>DEF_60_CNT_SOCIAL_CIRCLE</th>\n",
       "      <td>1021</td>\n",
       "      <td>0.3</td>\n",
       "    </tr>\n",
       "    <tr>\n",
       "      <th>OBS_30_CNT_SOCIAL_CIRCLE</th>\n",
       "      <td>1021</td>\n",
       "      <td>0.3</td>\n",
       "    </tr>\n",
       "    <tr>\n",
       "      <th>EXT_SOURCE_2</th>\n",
       "      <td>660</td>\n",
       "      <td>0.2</td>\n",
       "    </tr>\n",
       "    <tr>\n",
       "      <th>AMT_GOODS_PRICE</th>\n",
       "      <td>278</td>\n",
       "      <td>0.1</td>\n",
       "    </tr>\n",
       "    <tr>\n",
       "      <th>AMT_ANNUITY</th>\n",
       "      <td>12</td>\n",
       "      <td>0.0</td>\n",
       "    </tr>\n",
       "    <tr>\n",
       "      <th>CNT_FAM_MEMBERS</th>\n",
       "      <td>2</td>\n",
       "      <td>0.0</td>\n",
       "    </tr>\n",
       "    <tr>\n",
       "      <th>DAYS_LAST_PHONE_CHANGE</th>\n",
       "      <td>1</td>\n",
       "      <td>0.0</td>\n",
       "    </tr>\n",
       "  </tbody>\n",
       "</table>\n",
       "<p>67 rows × 2 columns</p>\n",
       "</div>"
      ],
      "text/plain": [
       "                              Missing Values  % of Total Values\n",
       "COMMONAREA_MEDI                       214865               69.9\n",
       "COMMONAREA_AVG                        214865               69.9\n",
       "COMMONAREA_MODE                       214865               69.9\n",
       "NONLIVINGAPARTMENTS_MEDI              213514               69.4\n",
       "NONLIVINGAPARTMENTS_MODE              213514               69.4\n",
       "NONLIVINGAPARTMENTS_AVG               213514               69.4\n",
       "FONDKAPREMONT_MODE                    210295               68.4\n",
       "LIVINGAPARTMENTS_MODE                 210199               68.4\n",
       "LIVINGAPARTMENTS_MEDI                 210199               68.4\n",
       "LIVINGAPARTMENTS_AVG                  210199               68.4\n",
       "FLOORSMIN_MODE                        208642               67.8\n",
       "FLOORSMIN_MEDI                        208642               67.8\n",
       "FLOORSMIN_AVG                         208642               67.8\n",
       "YEARS_BUILD_MODE                      204488               66.5\n",
       "YEARS_BUILD_MEDI                      204488               66.5\n",
       "YEARS_BUILD_AVG                       204488               66.5\n",
       "OWN_CAR_AGE                           202929               66.0\n",
       "LANDAREA_AVG                          182590               59.4\n",
       "LANDAREA_MEDI                         182590               59.4\n",
       "LANDAREA_MODE                         182590               59.4\n",
       "BASEMENTAREA_MEDI                     179943               58.5\n",
       "BASEMENTAREA_AVG                      179943               58.5\n",
       "BASEMENTAREA_MODE                     179943               58.5\n",
       "EXT_SOURCE_1                          173378               56.4\n",
       "NONLIVINGAREA_MEDI                    169682               55.2\n",
       "NONLIVINGAREA_MODE                    169682               55.2\n",
       "NONLIVINGAREA_AVG                     169682               55.2\n",
       "ELEVATORS_MEDI                        163891               53.3\n",
       "ELEVATORS_MODE                        163891               53.3\n",
       "ELEVATORS_AVG                         163891               53.3\n",
       "...                                      ...                ...\n",
       "LIVINGAREA_MEDI                       154350               50.2\n",
       "LIVINGAREA_MODE                       154350               50.2\n",
       "LIVINGAREA_AVG                        154350               50.2\n",
       "HOUSETYPE_MODE                        154297               50.2\n",
       "FLOORSMAX_MEDI                        153020               49.8\n",
       "FLOORSMAX_AVG                         153020               49.8\n",
       "FLOORSMAX_MODE                        153020               49.8\n",
       "YEARS_BEGINEXPLUATATION_AVG           150007               48.8\n",
       "YEARS_BEGINEXPLUATATION_MEDI          150007               48.8\n",
       "YEARS_BEGINEXPLUATATION_MODE          150007               48.8\n",
       "TOTALAREA_MODE                        148431               48.3\n",
       "EMERGENCYSTATE_MODE                   145755               47.4\n",
       "OCCUPATION_TYPE                        96391               31.3\n",
       "EXT_SOURCE_3                           60965               19.8\n",
       "AMT_REQ_CREDIT_BUREAU_WEEK             41519               13.5\n",
       "AMT_REQ_CREDIT_BUREAU_DAY              41519               13.5\n",
       "AMT_REQ_CREDIT_BUREAU_MON              41519               13.5\n",
       "AMT_REQ_CREDIT_BUREAU_QRT              41519               13.5\n",
       "AMT_REQ_CREDIT_BUREAU_HOUR             41519               13.5\n",
       "AMT_REQ_CREDIT_BUREAU_YEAR             41519               13.5\n",
       "NAME_TYPE_SUITE                         1292                0.4\n",
       "DEF_30_CNT_SOCIAL_CIRCLE                1021                0.3\n",
       "OBS_60_CNT_SOCIAL_CIRCLE                1021                0.3\n",
       "DEF_60_CNT_SOCIAL_CIRCLE                1021                0.3\n",
       "OBS_30_CNT_SOCIAL_CIRCLE                1021                0.3\n",
       "EXT_SOURCE_2                             660                0.2\n",
       "AMT_GOODS_PRICE                          278                0.1\n",
       "AMT_ANNUITY                               12                0.0\n",
       "CNT_FAM_MEMBERS                            2                0.0\n",
       "DAYS_LAST_PHONE_CHANGE                     1                0.0\n",
       "\n",
       "[67 rows x 2 columns]"
      ]
     },
     "execution_count": 4,
     "metadata": {},
     "output_type": "execute_result"
    }
   ],
   "source": [
    "missing_values_table(train_data)"
   ]
  },
  {
   "cell_type": "code",
   "execution_count": 5,
   "metadata": {},
   "outputs": [],
   "source": [
    "train1=train_data.drop(columns=['NONLIVINGAPARTMENTS_MODE','NONLIVINGAPARTMENTS_MEDI','LIVINGAPARTMENTS_MODE',\n",
    "                                'LIVINGAPARTMENTS_MEDI','COMMONAREA_MEDI', 'COMMONAREA_MODE', 'FLOORSMIN_MEDI',\n",
    "                                'FLOORSMIN_MODE', 'YEARS_BUILD_MEDI','YEARS_BUILD_AVG','LANDAREA_MEDI','LANDAREA_MODE',\n",
    "                                'BASEMENTAREA_MEDI','BASEMENTAREA_MODE','NONLIVINGAREA_MEDI','NONLIVINGAREA_MODE',\n",
    "                                'ELEVATORS_MEDI','ELEVATORS_MODE','LIVINGAREA_MEDI','LIVINGAREA_MODE', 'APARTMENTS_MODE', \n",
    "                                'APARTMENTS_MEDI', 'ENTRANCES_MEDI','ENTRANCES_MODE','FLOORSMAX_MODE','FLOORSMAX_MEDI',\n",
    "                                'YEARS_BEGINEXPLUATATION_MODE','YEARS_BEGINEXPLUATATION_MEDI', 'SK_ID_CURR'])"
   ]
  },
  {
   "cell_type": "code",
   "execution_count": 6,
   "metadata": {},
   "outputs": [],
   "source": [
    "list_1=['COMMONAREA_AVG' , 'NONLIVINGAPARTMENTS_AVG','LIVINGAPARTMENTS_AVG','FLOORSMIN_AVG','YEARS_BUILD_MODE',\n",
    "        'OWN_CAR_AGE','LANDAREA_AVG','BASEMENTAREA_AVG','NONLIVINGAREA_AVG','ELEVATORS_AVG','LIVINGAREA_AVG', \n",
    "       'APARTMENTS_AVG','ENTRANCES_AVG', 'FLOORSMAX_AVG','YEARS_BEGINEXPLUATATION_AVG',\n",
    "        'TOTALAREA_MODE', 'DEF_30_CNT_SOCIAL_CIRCLE', 'OBS_30_CNT_SOCIAL_CIRCLE', 'OBS_60_CNT_SOCIAL_CIRCLE',\n",
    "        'DEF_60_CNT_SOCIAL_CIRCLE', 'EXT_SOURCE_1', 'EXT_SOURCE_2', 'EXT_SOURCE_3']"
   ]
  },
  {
   "cell_type": "code",
   "execution_count": 7,
   "metadata": {},
   "outputs": [],
   "source": [
    "for i in list_1:\n",
    "    train1.loc[train1[i].isnull(), i]=-1"
   ]
  },
  {
   "cell_type": "code",
   "execution_count": 8,
   "metadata": {},
   "outputs": [],
   "source": [
    "list_0 = ['AMT_REQ_CREDIT_BUREAU_HOUR', 'AMT_REQ_CREDIT_BUREAU_WEEK', 'AMT_REQ_CREDIT_BUREAU_MON',\n",
    "          'AMT_REQ_CREDIT_BUREAU_DAY','AMT_REQ_CREDIT_BUREAU_QRT','AMT_REQ_CREDIT_BUREAU_YEAR']"
   ]
  },
  {
   "cell_type": "code",
   "execution_count": 9,
   "metadata": {},
   "outputs": [],
   "source": [
    "for i in list_0:\n",
    "    train1.loc[train1[i].isnull(), i]=0"
   ]
  },
  {
   "cell_type": "code",
   "execution_count": 10,
   "metadata": {},
   "outputs": [
    {
     "name": "stdout",
     "output_type": "stream",
     "text": [
      "Your selected dataframe has 93 columns.\n",
      "There are 10 columns that have missing values.\n"
     ]
    },
    {
     "data": {
      "text/html": [
       "<div>\n",
       "<style scoped>\n",
       "    .dataframe tbody tr th:only-of-type {\n",
       "        vertical-align: middle;\n",
       "    }\n",
       "\n",
       "    .dataframe tbody tr th {\n",
       "        vertical-align: top;\n",
       "    }\n",
       "\n",
       "    .dataframe thead th {\n",
       "        text-align: right;\n",
       "    }\n",
       "</style>\n",
       "<table border=\"1\" class=\"dataframe\">\n",
       "  <thead>\n",
       "    <tr style=\"text-align: right;\">\n",
       "      <th></th>\n",
       "      <th>Missing Values</th>\n",
       "      <th>% of Total Values</th>\n",
       "    </tr>\n",
       "  </thead>\n",
       "  <tbody>\n",
       "    <tr>\n",
       "      <th>FONDKAPREMONT_MODE</th>\n",
       "      <td>210295</td>\n",
       "      <td>68.4</td>\n",
       "    </tr>\n",
       "    <tr>\n",
       "      <th>WALLSMATERIAL_MODE</th>\n",
       "      <td>156341</td>\n",
       "      <td>50.8</td>\n",
       "    </tr>\n",
       "    <tr>\n",
       "      <th>HOUSETYPE_MODE</th>\n",
       "      <td>154297</td>\n",
       "      <td>50.2</td>\n",
       "    </tr>\n",
       "    <tr>\n",
       "      <th>EMERGENCYSTATE_MODE</th>\n",
       "      <td>145755</td>\n",
       "      <td>47.4</td>\n",
       "    </tr>\n",
       "    <tr>\n",
       "      <th>OCCUPATION_TYPE</th>\n",
       "      <td>96391</td>\n",
       "      <td>31.3</td>\n",
       "    </tr>\n",
       "    <tr>\n",
       "      <th>NAME_TYPE_SUITE</th>\n",
       "      <td>1292</td>\n",
       "      <td>0.4</td>\n",
       "    </tr>\n",
       "    <tr>\n",
       "      <th>AMT_GOODS_PRICE</th>\n",
       "      <td>278</td>\n",
       "      <td>0.1</td>\n",
       "    </tr>\n",
       "    <tr>\n",
       "      <th>AMT_ANNUITY</th>\n",
       "      <td>12</td>\n",
       "      <td>0.0</td>\n",
       "    </tr>\n",
       "    <tr>\n",
       "      <th>CNT_FAM_MEMBERS</th>\n",
       "      <td>2</td>\n",
       "      <td>0.0</td>\n",
       "    </tr>\n",
       "    <tr>\n",
       "      <th>DAYS_LAST_PHONE_CHANGE</th>\n",
       "      <td>1</td>\n",
       "      <td>0.0</td>\n",
       "    </tr>\n",
       "  </tbody>\n",
       "</table>\n",
       "</div>"
      ],
      "text/plain": [
       "                        Missing Values  % of Total Values\n",
       "FONDKAPREMONT_MODE              210295               68.4\n",
       "WALLSMATERIAL_MODE              156341               50.8\n",
       "HOUSETYPE_MODE                  154297               50.2\n",
       "EMERGENCYSTATE_MODE             145755               47.4\n",
       "OCCUPATION_TYPE                  96391               31.3\n",
       "NAME_TYPE_SUITE                   1292                0.4\n",
       "AMT_GOODS_PRICE                    278                0.1\n",
       "AMT_ANNUITY                         12                0.0\n",
       "CNT_FAM_MEMBERS                      2                0.0\n",
       "DAYS_LAST_PHONE_CHANGE               1                0.0"
      ]
     },
     "execution_count": 10,
     "metadata": {},
     "output_type": "execute_result"
    }
   ],
   "source": [
    "missing_values_table(train1)"
   ]
  },
  {
   "cell_type": "code",
   "execution_count": 11,
   "metadata": {},
   "outputs": [],
   "source": [
    "train_dummy = pd.get_dummies(train1)"
   ]
  },
  {
   "cell_type": "code",
   "execution_count": 12,
   "metadata": {},
   "outputs": [],
   "source": [
    "#for i in ['AMT_GOODS_PRICE','CNT_FAM_MEMBERS', 'DAYS_LAST_PHONE_CHANGE']\n",
    "train_clean = train_dummy.dropna()"
   ]
  },
  {
   "cell_type": "code",
   "execution_count": 13,
   "metadata": {},
   "outputs": [
    {
     "name": "stdout",
     "output_type": "stream",
     "text": [
      "Your selected dataframe has 217 columns.\n",
      "There are 0 columns that have missing values.\n"
     ]
    },
    {
     "data": {
      "text/html": [
       "<div>\n",
       "<style scoped>\n",
       "    .dataframe tbody tr th:only-of-type {\n",
       "        vertical-align: middle;\n",
       "    }\n",
       "\n",
       "    .dataframe tbody tr th {\n",
       "        vertical-align: top;\n",
       "    }\n",
       "\n",
       "    .dataframe thead th {\n",
       "        text-align: right;\n",
       "    }\n",
       "</style>\n",
       "<table border=\"1\" class=\"dataframe\">\n",
       "  <thead>\n",
       "    <tr style=\"text-align: right;\">\n",
       "      <th></th>\n",
       "      <th>Missing Values</th>\n",
       "      <th>% of Total Values</th>\n",
       "    </tr>\n",
       "  </thead>\n",
       "  <tbody>\n",
       "  </tbody>\n",
       "</table>\n",
       "</div>"
      ],
      "text/plain": [
       "Empty DataFrame\n",
       "Columns: [Missing Values, % of Total Values]\n",
       "Index: []"
      ]
     },
     "execution_count": 13,
     "metadata": {},
     "output_type": "execute_result"
    }
   ],
   "source": [
    "missing_values_table(train_clean)"
   ]
  },
  {
   "cell_type": "code",
   "execution_count": 14,
   "metadata": {},
   "outputs": [
    {
     "data": {
      "text/plain": [
       "(307511, 122)"
      ]
     },
     "execution_count": 14,
     "metadata": {},
     "output_type": "execute_result"
    }
   ],
   "source": [
    "train_data.shape"
   ]
  },
  {
   "cell_type": "code",
   "execution_count": 15,
   "metadata": {},
   "outputs": [
    {
     "data": {
      "text/plain": [
       "(307511, 217)"
      ]
     },
     "execution_count": 15,
     "metadata": {},
     "output_type": "execute_result"
    }
   ],
   "source": [
    "train_dummy.shape"
   ]
  },
  {
   "cell_type": "code",
   "execution_count": 16,
   "metadata": {},
   "outputs": [
    {
     "data": {
      "text/plain": [
       "(307220, 217)"
      ]
     },
     "execution_count": 16,
     "metadata": {},
     "output_type": "execute_result"
    }
   ],
   "source": [
    "train_clean.shape"
   ]
  },
  {
   "cell_type": "code",
   "execution_count": 17,
   "metadata": {},
   "outputs": [],
   "source": [
    "train_clean =pd.DataFrame(train_clean)\n",
    "train_clean.to_csv(\"train_clean.csv\")"
   ]
  },
  {
   "cell_type": "code",
   "execution_count": 19,
   "metadata": {},
   "outputs": [],
   "source": [
    "train_no_target=train_clean.drop(columns=['TARGET'])"
   ]
  },
  {
   "cell_type": "code",
   "execution_count": 20,
   "metadata": {},
   "outputs": [
    {
     "data": {
      "text/plain": [
       "(307220, 217)"
      ]
     },
     "execution_count": 20,
     "metadata": {},
     "output_type": "execute_result"
    }
   ],
   "source": [
    "train_clean.shape"
   ]
  },
  {
   "cell_type": "code",
   "execution_count": null,
   "metadata": {
    "scrolled": true
   },
   "outputs": [],
   "source": [
    "#train_clean2 =pd.DataFrame(train_no_target)\n",
    "#train_clean2.to_csv(\"train_clean_no_target.csv\")"
   ]
  },
  {
   "cell_type": "code",
   "execution_count": null,
   "metadata": {},
   "outputs": [],
   "source": [
    "#EDA"
   ]
  },
  {
   "cell_type": "code",
   "execution_count": 22,
   "metadata": {},
   "outputs": [
    {
     "data": {
      "image/png": "[encoded data removed]",
      "text/plain": [
       "<Figure size 432x288 with 1 Axes>"
      ]
     },
     "metadata": {
      "needs_background": "light"
     },
     "output_type": "display_data"
    }
   ],
   "source": [
    "target1=round((train_clean.loc[train_clean['TARGET']==1, 'TARGET']).count()/len(train_clean),2)*100\n",
    "target0=round((train_clean.loc[train_clean['TARGET']==0, 'TARGET']).count()/len(train_clean),2)*100\n",
    "price=[target1, target0]\n",
    "plt.barh(range(2), price, height=0.3, color='orange', alpha=0.9) \n",
    "plt.yticks(range(2), ['1', '0'])\n",
    "plt.xlim(0,120)\n",
    "plt.xlabel(\"percentage\")\n",
    "plt.ylabel(\"TARGET\")\n",
    "plt.title(\"Percentage of targets\")\n",
    "for x, y in enumerate(price):\n",
    "    plt.text(y+0.1 , x, '%s' % y, size=12)\n",
    "plt.show()"
   ]
  },
  {
   "cell_type": "code",
   "execution_count": 23,
   "metadata": {},
   "outputs": [
    {
     "data": {
      "image/png": "[encoded data removed]",
      "text/plain": [
       "<Figure size 432x288 with 1 Axes>"
      ]
     },
     "metadata": {
      "needs_background": "light"
     },
     "output_type": "display_data"
    }
   ],
   "source": [
    "sns.distplot(-train_clean['DAYS_BIRTH'] / 365, bins = 25)\n",
    "plt.title('Age of Client'); plt.xlabel('Age (years)'); plt.ylabel('Density');"
   ]
  },
  {
   "cell_type": "code",
   "execution_count": 24,
   "metadata": {},
   "outputs": [
    {
     "data": {
      "image/png": "[encoded data removed]",
      "text/plain": [
       "<Figure size 432x288 with 1 Axes>"
      ]
     },
     "metadata": {
      "needs_background": "light"
     },
     "output_type": "display_data"
    }
   ],
   "source": [
    "sns.kdeplot(-(train_clean.loc[train_clean['TARGET'] == 0, 'DAYS_BIRTH']/365), label = 'target == 0')\n",
    "\n",
    "sns.kdeplot(-(train_clean.loc[train_clean['TARGET'] == 1, 'DAYS_BIRTH']/365), label = 'target == 1')\n",
    "\n",
    "plt.xlabel('Age'); plt.ylabel('Density'); plt.title('The distribution of age of different targets');"
   ]
  },
  {
   "cell_type": "code",
   "execution_count": 25,
   "metadata": {},
   "outputs": [
    {
     "data": {
      "text/plain": [
       "Text(0.5, 0, 'Days Employment')"
      ]
     },
     "execution_count": 25,
     "metadata": {},
     "output_type": "execute_result"
    },
    {
     "data": {
      "image/png": "[encoded data removed]",
      "text/plain": [
       "<Figure size 432x288 with 1 Axes>"
      ]
     },
     "metadata": {
      "needs_background": "light"
     },
     "output_type": "display_data"
    }
   ],
   "source": [
    "(train_clean['DAYS_EMPLOYED']).describe()\n",
    "train_clean['DAYS_EMPLOYED'].plot.hist(title = 'Days Employment Histogram');\n",
    "plt.xlabel('Days Employment')"
   ]
  },
  {
   "cell_type": "code",
   "execution_count": 26,
   "metadata": {},
   "outputs": [
    {
     "data": {
      "image/png": "[encoded data removed]",
      "text/plain": [
       "<Figure size 432x288 with 1 Axes>"
      ]
     },
     "metadata": {
      "needs_background": "light"
     },
     "output_type": "display_data"
    }
   ],
   "source": [
    "sns.kdeplot((train_clean.loc[train_clean['TARGET'] == 0, 'DAYS_EMPLOYED']/365), label = 'target == 0')\n",
    "\n",
    "sns.kdeplot((train_clean.loc[train_clean['TARGET'] == 1, 'DAYS_EMPLOYED']/365), label = 'target == 1')\n",
    "\n",
    "plt.xlabel('Years_Employed'); plt.ylabel('Density'); plt.title('Duration of employed');"
   ]
  },
  {
   "cell_type": "code",
   "execution_count": 27,
   "metadata": {},
   "outputs": [
    {
     "data": {
      "image/png": "[encoded data removed]",
      "text/plain": [
       "<Figure size 432x288 with 1 Axes>"
      ]
     },
     "metadata": {
      "needs_background": "light"
     },
     "output_type": "display_data"
    }
   ],
   "source": [
    "sns.kdeplot(-(train_clean[train_clean['DAYS_EMPLOYED']<365243].loc[train_clean['TARGET'] == 0, 'DAYS_EMPLOYED'] / 365), shade=True, color=\"g\", label = 'target == 0', alpha=.4)\n",
    "\n",
    "sns.kdeplot(-(train_clean[train_clean['DAYS_EMPLOYED']<365243].loc[train_clean['TARGET'] == 1, 'DAYS_EMPLOYED'] / 365), label = 'target == 1', shade=True, color=\"orange\", alpha=.4)\n",
    "\n",
    "plt.xlabel('Year_Employed'); plt.ylabel('Density'); plt.title('Distribution of year employed');"
   ]
  },
  {
   "cell_type": "code",
   "execution_count": 51,
   "metadata": {},
   "outputs": [
    {
     "data": {
      "image/png": "[encoded data removed]",
      "text/plain": [
       "<Figure size 432x288 with 1 Axes>"
      ]
     },
     "metadata": {
      "needs_background": "light"
     },
     "output_type": "display_data"
    }
   ],
   "source": [
    "#sns.kdeplot((train_clean.loc[:, 'AMT_GOODS_PRICE']), shade = True, color = \"g\")\n",
    "\n",
    "sns.kdeplot((train_clean.loc[train_clean['TARGET'] == 0, 'AMT_GOODS_PRICE'] ), label = 'target == 0', shade=True, alpha=.4, color = \"g\")\n",
    "sns.kdeplot((train_clean.loc[train_clean['TARGET'] == 1, 'AMT_GOODS_PRICE'] ), label = 'target == 1', shade=True, alpha=.4, color = \"maroon\")\n",
    "plt.xlabel('AMT_GOODS_PRICE'); plt.ylabel('Density'); plt.title('Distribution of AMT_GOODS_PRICE');"
   ]
  },
  {
   "cell_type": "code",
   "execution_count": 37,
   "metadata": {},
   "outputs": [
    {
     "data": {
      "image/png": "[encoded data removed]",
      "text/plain": [
       "<Figure size 432x288 with 1 Axes>"
      ]
     },
     "metadata": {
      "needs_background": "light"
     },
     "output_type": "display_data"
    }
   ],
   "source": [
    "sns.kdeplot((train_clean.loc[:, 'AMT_INCOME_TOTAL']), label = 'All', shade = True, color = \"y\")\n",
    "plt.xlabel('AMT_INCOME_TOTAL'); plt.ylabel('Density'); plt.title('Distribution of AMT_INCOME_TOTAL');"
   ]
  },
  {
   "cell_type": "code",
   "execution_count": 55,
   "metadata": {
    "scrolled": true
   },
   "outputs": [
    {
     "data": {
      "image/png": "[encoded data removed]",
      "text/plain": [
       "<Figure size 432x288 with 1 Axes>"
      ]
     },
     "metadata": {
      "needs_background": "light"
     },
     "output_type": "display_data"
    }
   ],
   "source": [
    "train_AMT = train_clean.loc[train_clean['AMT_INCOME_TOTAL']<1000000, : ]\n",
    "sns.kdeplot((train_AMT.loc[train_AMT['TARGET'] == 0, 'AMT_INCOME_TOTAL'] ), label = 'target == 0', shade=True, alpha=.4, color = \"y\")\n",
    "sns.kdeplot((train_AMT.loc[train_AMT['TARGET'] == 1, 'AMT_INCOME_TOTAL'] ), label = 'target == 1', shade=True, alpha=.4, color = \"g\")\n",
    "plt.xlabel('AMT_INCOME_TOTAL'); plt.ylabel('Density'); plt.title('Distribution of AMT_INCOME_TOTAL');"
   ]
  },
  {
   "cell_type": "code",
   "execution_count": 46,
   "metadata": {},
   "outputs": [
    {
     "data": {
      "image/png": "[encoded data removed]",
      "text/plain": [
       "<Figure size 432x288 with 1 Axes>"
      ]
     },
     "metadata": {
      "needs_background": "light"
     },
     "output_type": "display_data"
    }
   ],
   "source": [
    "sns.kdeplot((train_clean.loc[train_clean['TARGET'] == 0, 'FLOORSMAX_AVG'] ), label = 'target == 0', shade=True, alpha=.2, color = \"r\")\n",
    "sns.kdeplot((train_clean.loc[train_clean['TARGET'] == 1, 'FLOORSMAX_AVG'] ), label = 'target == 1', shade=True, alpha=.2, color = \"dodgerblue\")\n",
    "plt.xlabel('FLOORSMAX_AVG'); plt.ylabel('Density', size=12); "
   ]
  },
  {
   "cell_type": "code",
   "execution_count": 44,
   "metadata": {},
   "outputs": [
    {
     "data": {
      "image/png": "[encoded data removed]",
      "text/plain": [
       "<Figure size 432x288 with 1 Axes>"
      ]
     },
     "metadata": {
      "needs_background": "light"
     },
     "output_type": "display_data"
    }
   ],
   "source": [
    "sns.kdeplot((train_clean.loc[train_clean['TARGET'] == 0, 'AMT_ANNUITY'] ), label = 'target == 0', color = \"orange\")\n",
    "sns.kdeplot((train_clean.loc[train_clean['TARGET'] == 1, 'AMT_ANNUITY'] ), label = 'target == 1', color = \"green\")\n",
    "plt.xlabel('AMT_ANNUITY'); plt.ylabel('Density', size=12); "
   ]
  },
  {
   "cell_type": "code",
   "execution_count": null,
   "metadata": {},
   "outputs": [],
   "source": []
  },
  {
   "cell_type": "code",
   "execution_count": 35,
   "metadata": {},
   "outputs": [],
   "source": [
    "from sklearn.preprocessing import StandardScaler\n",
    "train_clean2 = StandardScaler().fit_transform(train_clean2)"
   ]
  },
  {
   "cell_type": "code",
   "execution_count": 20,
   "metadata": {},
   "outputs": [],
   "source": [
    "from sklearn.decomposition import PCA"
   ]
  },
  {
   "cell_type": "code",
   "execution_count": 36,
   "metadata": {},
   "outputs": [
    {
     "data": {
      "text/plain": [
       "Text(0, 0.5, 'cumulative explained variance')"
      ]
     },
     "execution_count": 36,
     "metadata": {},
     "output_type": "execute_result"
    },
    {
     "data": {
      "image/png": "[encoded data removed]",
      "text/plain": [
       "<Figure size 432x288 with 1 Axes>"
      ]
     },
     "metadata": {
      "needs_background": "light"
     },
     "output_type": "display_data"
    }
   ],
   "source": [
    "pca = PCA().fit(train_clean2) # 'data' can be changed here\n",
    "plt.plot(np.cumsum(pca.explained_variance_ratio_))\n",
    "plt.xlabel('number of components')\n",
    "plt.ylabel('cumulative explained variance')"
   ]
  },
  {
   "cell_type": "code",
   "execution_count": 37,
   "metadata": {},
   "outputs": [
    {
     "data": {
      "text/plain": [
       "159"
      ]
     },
     "execution_count": 37,
     "metadata": {},
     "output_type": "execute_result"
    }
   ],
   "source": [
    "pca=PCA(0.95).fit(train_clean2)\n",
    "pca.n_components_"
   ]
  },
  {
   "cell_type": "code",
   "execution_count": 38,
   "metadata": {},
   "outputs": [],
   "source": [
    "pca = PCA(n_components=3)\n",
    "train_pca = pca.fit_transform(train_clean2)"
   ]
  },
  {
   "cell_type": "code",
   "execution_count": 44,
   "metadata": {},
   "outputs": [],
   "source": [
    "train_pca =pd.DataFrame(train_pca)\n",
    "train_pca.to_csv(\"train_pca.csv\")"
   ]
  },
  {
   "cell_type": "code",
   "execution_count": 39,
   "metadata": {},
   "outputs": [],
   "source": [
    "PCs = pd.DataFrame(pca.components_.T,columns=['PC-1','PC-2', 'PC-3'], index = train_clean.columns)"
   ]
  },
  {
   "cell_type": "code",
   "execution_count": 40,
   "metadata": {
    "scrolled": true
   },
   "outputs": [
    {
     "data": {
      "text/html": [
       "<div>\n",
       "<style scoped>\n",
       "    .dataframe tbody tr th:only-of-type {\n",
       "        vertical-align: middle;\n",
       "    }\n",
       "\n",
       "    .dataframe tbody tr th {\n",
       "        vertical-align: top;\n",
       "    }\n",
       "\n",
       "    .dataframe thead th {\n",
       "        text-align: right;\n",
       "    }\n",
       "</style>\n",
       "<table border=\"1\" class=\"dataframe\">\n",
       "  <thead>\n",
       "    <tr style=\"text-align: right;\">\n",
       "      <th></th>\n",
       "      <th>PC-1</th>\n",
       "      <th>PC-2</th>\n",
       "      <th>PC-3</th>\n",
       "    </tr>\n",
       "  </thead>\n",
       "  <tbody>\n",
       "    <tr>\n",
       "      <th>CNT_CHILDREN</th>\n",
       "      <td>-1.323870e-02</td>\n",
       "      <td>1.313757e-01</td>\n",
       "      <td>-2.725040e-03</td>\n",
       "    </tr>\n",
       "    <tr>\n",
       "      <th>AMT_INCOME_TOTAL</th>\n",
       "      <td>1.633009e-02</td>\n",
       "      <td>4.441870e-02</td>\n",
       "      <td>1.156386e-01</td>\n",
       "    </tr>\n",
       "    <tr>\n",
       "      <th>AMT_CREDIT</th>\n",
       "      <td>2.160830e-02</td>\n",
       "      <td>5.834712e-02</td>\n",
       "      <td>3.081243e-01</td>\n",
       "    </tr>\n",
       "    <tr>\n",
       "      <th>AMT_ANNUITY</th>\n",
       "      <td>2.370739e-02</td>\n",
       "      <td>7.791357e-02</td>\n",
       "      <td>3.007094e-01</td>\n",
       "    </tr>\n",
       "    <tr>\n",
       "      <th>AMT_GOODS_PRICE</th>\n",
       "      <td>2.259530e-02</td>\n",
       "      <td>5.894310e-02</td>\n",
       "      <td>3.097671e-01</td>\n",
       "    </tr>\n",
       "    <tr>\n",
       "      <th>REGION_POPULATION_RELATIVE</th>\n",
       "      <td>4.286521e-02</td>\n",
       "      <td>1.558073e-02</td>\n",
       "      <td>1.501054e-01</td>\n",
       "    </tr>\n",
       "    <tr>\n",
       "      <th>DAYS_BIRTH</th>\n",
       "      <td>-9.874085e-03</td>\n",
       "      <td>2.695057e-01</td>\n",
       "      <td>-1.189967e-01</td>\n",
       "    </tr>\n",
       "    <tr>\n",
       "      <th>DAYS_EMPLOYED</th>\n",
       "      <td>1.135157e-03</td>\n",
       "      <td>-3.504997e-01</td>\n",
       "      <td>1.129891e-01</td>\n",
       "    </tr>\n",
       "    <tr>\n",
       "      <th>DAYS_REGISTRATION</th>\n",
       "      <td>-2.027211e-02</td>\n",
       "      <td>1.133752e-01</td>\n",
       "      <td>-2.230592e-02</td>\n",
       "    </tr>\n",
       "    <tr>\n",
       "      <th>DAYS_ID_PUBLISH</th>\n",
       "      <td>-5.670754e-03</td>\n",
       "      <td>1.115713e-01</td>\n",
       "      <td>-8.344801e-02</td>\n",
       "    </tr>\n",
       "    <tr>\n",
       "      <th>OWN_CAR_AGE</th>\n",
       "      <td>-1.391715e-02</td>\n",
       "      <td>8.570193e-02</td>\n",
       "      <td>1.734585e-01</td>\n",
       "    </tr>\n",
       "    <tr>\n",
       "      <th>FLAG_MOBIL</th>\n",
       "      <td>1.972593e-24</td>\n",
       "      <td>1.227652e-21</td>\n",
       "      <td>5.106846e-20</td>\n",
       "    </tr>\n",
       "    <tr>\n",
       "      <th>FLAG_EMP_PHONE</th>\n",
       "      <td>-1.268435e-03</td>\n",
       "      <td>3.509470e-01</td>\n",
       "      <td>-1.134117e-01</td>\n",
       "    </tr>\n",
       "    <tr>\n",
       "      <th>FLAG_WORK_PHONE</th>\n",
       "      <td>-1.746604e-02</td>\n",
       "      <td>9.797743e-02</td>\n",
       "      <td>-5.024215e-02</td>\n",
       "    </tr>\n",
       "    <tr>\n",
       "      <th>FLAG_CONT_MOBILE</th>\n",
       "      <td>-2.938879e-03</td>\n",
       "      <td>-6.905485e-03</td>\n",
       "      <td>8.713983e-03</td>\n",
       "    </tr>\n",
       "    <tr>\n",
       "      <th>FLAG_PHONE</th>\n",
       "      <td>1.960497e-02</td>\n",
       "      <td>-3.217050e-03</td>\n",
       "      <td>3.320417e-02</td>\n",
       "    </tr>\n",
       "    <tr>\n",
       "      <th>FLAG_EMAIL</th>\n",
       "      <td>1.309740e-02</td>\n",
       "      <td>3.652489e-02</td>\n",
       "      <td>2.698900e-02</td>\n",
       "    </tr>\n",
       "    <tr>\n",
       "      <th>CNT_FAM_MEMBERS</th>\n",
       "      <td>-2.023631e-02</td>\n",
       "      <td>1.372527e-01</td>\n",
       "      <td>5.930901e-02</td>\n",
       "    </tr>\n",
       "    <tr>\n",
       "      <th>REGION_RATING_CLIENT</th>\n",
       "      <td>-4.598724e-02</td>\n",
       "      <td>-3.077178e-02</td>\n",
       "      <td>-1.703489e-01</td>\n",
       "    </tr>\n",
       "    <tr>\n",
       "      <th>REGION_RATING_CLIENT_W_CITY</th>\n",
       "      <td>-5.543429e-02</td>\n",
       "      <td>-3.128996e-02</td>\n",
       "      <td>-1.686095e-01</td>\n",
       "    </tr>\n",
       "    <tr>\n",
       "      <th>HOUR_APPR_PROCESS_START</th>\n",
       "      <td>2.134849e-02</td>\n",
       "      <td>5.006938e-02</td>\n",
       "      <td>5.850878e-02</td>\n",
       "    </tr>\n",
       "    <tr>\n",
       "      <th>REG_REGION_NOT_LIVE_REGION</th>\n",
       "      <td>-7.068739e-03</td>\n",
       "      <td>3.687664e-02</td>\n",
       "      <td>2.150525e-02</td>\n",
       "    </tr>\n",
       "    <tr>\n",
       "      <th>REG_REGION_NOT_WORK_REGION</th>\n",
       "      <td>-6.322831e-03</td>\n",
       "      <td>8.115618e-02</td>\n",
       "      <td>7.901036e-02</td>\n",
       "    </tr>\n",
       "    <tr>\n",
       "      <th>LIVE_REGION_NOT_WORK_REGION</th>\n",
       "      <td>-1.987057e-03</td>\n",
       "      <td>7.238815e-02</td>\n",
       "      <td>8.585073e-02</td>\n",
       "    </tr>\n",
       "    <tr>\n",
       "      <th>REG_CITY_NOT_LIVE_CITY</th>\n",
       "      <td>-4.569152e-02</td>\n",
       "      <td>6.077683e-02</td>\n",
       "      <td>-3.430686e-02</td>\n",
       "    </tr>\n",
       "    <tr>\n",
       "      <th>REG_CITY_NOT_WORK_CITY</th>\n",
       "      <td>-7.718866e-02</td>\n",
       "      <td>1.380451e-01</td>\n",
       "      <td>-1.817820e-02</td>\n",
       "    </tr>\n",
       "    <tr>\n",
       "      <th>LIVE_CITY_NOT_WORK_CITY</th>\n",
       "      <td>-6.024284e-02</td>\n",
       "      <td>1.186998e-01</td>\n",
       "      <td>9.167389e-03</td>\n",
       "    </tr>\n",
       "    <tr>\n",
       "      <th>EXT_SOURCE_1</th>\n",
       "      <td>1.594133e-02</td>\n",
       "      <td>7.747252e-02</td>\n",
       "      <td>-7.177324e-03</td>\n",
       "    </tr>\n",
       "    <tr>\n",
       "      <th>EXT_SOURCE_2</th>\n",
       "      <td>3.606693e-02</td>\n",
       "      <td>1.444742e-02</td>\n",
       "      <td>1.313524e-01</td>\n",
       "    </tr>\n",
       "    <tr>\n",
       "      <th>EXT_SOURCE_3</th>\n",
       "      <td>6.958289e-03</td>\n",
       "      <td>-1.588669e-02</td>\n",
       "      <td>4.877552e-02</td>\n",
       "    </tr>\n",
       "    <tr>\n",
       "      <th>...</th>\n",
       "      <td>...</td>\n",
       "      <td>...</td>\n",
       "      <td>...</td>\n",
       "    </tr>\n",
       "    <tr>\n",
       "      <th>ORGANIZATION_TYPE_Telecom</th>\n",
       "      <td>1.680628e-03</td>\n",
       "      <td>8.355892e-03</td>\n",
       "      <td>1.175097e-03</td>\n",
       "    </tr>\n",
       "    <tr>\n",
       "      <th>ORGANIZATION_TYPE_Trade: type 1</th>\n",
       "      <td>1.365240e-03</td>\n",
       "      <td>5.489345e-03</td>\n",
       "      <td>-1.011851e-02</td>\n",
       "    </tr>\n",
       "    <tr>\n",
       "      <th>ORGANIZATION_TYPE_Trade: type 2</th>\n",
       "      <td>3.768413e-03</td>\n",
       "      <td>2.138048e-02</td>\n",
       "      <td>-9.477832e-03</td>\n",
       "    </tr>\n",
       "    <tr>\n",
       "      <th>ORGANIZATION_TYPE_Trade: type 3</th>\n",
       "      <td>2.988680e-04</td>\n",
       "      <td>1.818277e-02</td>\n",
       "      <td>-2.208673e-02</td>\n",
       "    </tr>\n",
       "    <tr>\n",
       "      <th>ORGANIZATION_TYPE_Trade: type 4</th>\n",
       "      <td>4.381507e-04</td>\n",
       "      <td>3.390699e-03</td>\n",
       "      <td>-4.734753e-04</td>\n",
       "    </tr>\n",
       "    <tr>\n",
       "      <th>ORGANIZATION_TYPE_Trade: type 5</th>\n",
       "      <td>6.549750e-04</td>\n",
       "      <td>1.036798e-03</td>\n",
       "      <td>-3.714198e-03</td>\n",
       "    </tr>\n",
       "    <tr>\n",
       "      <th>ORGANIZATION_TYPE_Trade: type 6</th>\n",
       "      <td>2.101581e-03</td>\n",
       "      <td>6.138349e-03</td>\n",
       "      <td>-2.541002e-03</td>\n",
       "    </tr>\n",
       "    <tr>\n",
       "      <th>ORGANIZATION_TYPE_Trade: type 7</th>\n",
       "      <td>-1.633860e-03</td>\n",
       "      <td>2.141917e-02</td>\n",
       "      <td>-3.503364e-02</td>\n",
       "    </tr>\n",
       "    <tr>\n",
       "      <th>ORGANIZATION_TYPE_Transport: type 1</th>\n",
       "      <td>-4.317417e-04</td>\n",
       "      <td>4.633276e-03</td>\n",
       "      <td>4.423619e-04</td>\n",
       "    </tr>\n",
       "    <tr>\n",
       "      <th>ORGANIZATION_TYPE_Transport: type 2</th>\n",
       "      <td>-5.250290e-04</td>\n",
       "      <td>1.805815e-02</td>\n",
       "      <td>1.265155e-04</td>\n",
       "    </tr>\n",
       "    <tr>\n",
       "      <th>ORGANIZATION_TYPE_Transport: type 3</th>\n",
       "      <td>-1.476196e-03</td>\n",
       "      <td>1.378447e-02</td>\n",
       "      <td>1.847652e-02</td>\n",
       "    </tr>\n",
       "    <tr>\n",
       "      <th>ORGANIZATION_TYPE_Transport: type 4</th>\n",
       "      <td>2.837734e-03</td>\n",
       "      <td>2.905353e-02</td>\n",
       "      <td>2.589979e-02</td>\n",
       "    </tr>\n",
       "    <tr>\n",
       "      <th>ORGANIZATION_TYPE_University</th>\n",
       "      <td>4.775488e-03</td>\n",
       "      <td>8.161988e-03</td>\n",
       "      <td>4.191327e-03</td>\n",
       "    </tr>\n",
       "    <tr>\n",
       "      <th>ORGANIZATION_TYPE_XNA</th>\n",
       "      <td>1.261160e-03</td>\n",
       "      <td>-3.509906e-01</td>\n",
       "      <td>1.133660e-01</td>\n",
       "    </tr>\n",
       "    <tr>\n",
       "      <th>FONDKAPREMONT_MODE_not specified</th>\n",
       "      <td>4.093580e-02</td>\n",
       "      <td>5.056557e-03</td>\n",
       "      <td>-4.833365e-03</td>\n",
       "    </tr>\n",
       "    <tr>\n",
       "      <th>FONDKAPREMONT_MODE_org spec account</th>\n",
       "      <td>4.275634e-02</td>\n",
       "      <td>2.266803e-03</td>\n",
       "      <td>4.656090e-03</td>\n",
       "    </tr>\n",
       "    <tr>\n",
       "      <th>FONDKAPREMONT_MODE_reg oper account</th>\n",
       "      <td>1.753326e-01</td>\n",
       "      <td>5.113221e-03</td>\n",
       "      <td>-1.318781e-02</td>\n",
       "    </tr>\n",
       "    <tr>\n",
       "      <th>FONDKAPREMONT_MODE_reg oper spec account</th>\n",
       "      <td>6.185340e-02</td>\n",
       "      <td>1.108238e-03</td>\n",
       "      <td>-1.309849e-02</td>\n",
       "    </tr>\n",
       "    <tr>\n",
       "      <th>HOUSETYPE_MODE_block of flats</th>\n",
       "      <td>2.354640e-01</td>\n",
       "      <td>4.824622e-03</td>\n",
       "      <td>-1.589667e-02</td>\n",
       "    </tr>\n",
       "    <tr>\n",
       "      <th>HOUSETYPE_MODE_specific housing</th>\n",
       "      <td>1.207016e-02</td>\n",
       "      <td>3.463742e-03</td>\n",
       "      <td>-2.004460e-02</td>\n",
       "    </tr>\n",
       "    <tr>\n",
       "      <th>HOUSETYPE_MODE_terraced house</th>\n",
       "      <td>8.214178e-03</td>\n",
       "      <td>6.647090e-04</td>\n",
       "      <td>-4.993837e-03</td>\n",
       "    </tr>\n",
       "    <tr>\n",
       "      <th>WALLSMATERIAL_MODE_Block</th>\n",
       "      <td>4.334550e-02</td>\n",
       "      <td>-1.373860e-03</td>\n",
       "      <td>4.040469e-03</td>\n",
       "    </tr>\n",
       "    <tr>\n",
       "      <th>WALLSMATERIAL_MODE_Mixed</th>\n",
       "      <td>1.748217e-02</td>\n",
       "      <td>1.774929e-03</td>\n",
       "      <td>1.509310e-03</td>\n",
       "    </tr>\n",
       "    <tr>\n",
       "      <th>WALLSMATERIAL_MODE_Monolithic</th>\n",
       "      <td>2.274465e-02</td>\n",
       "      <td>8.815007e-03</td>\n",
       "      <td>2.640691e-02</td>\n",
       "    </tr>\n",
       "    <tr>\n",
       "      <th>WALLSMATERIAL_MODE_Others</th>\n",
       "      <td>1.526910e-02</td>\n",
       "      <td>1.382708e-03</td>\n",
       "      <td>6.622759e-04</td>\n",
       "    </tr>\n",
       "    <tr>\n",
       "      <th>WALLSMATERIAL_MODE_Panel</th>\n",
       "      <td>1.398419e-01</td>\n",
       "      <td>3.471789e-03</td>\n",
       "      <td>7.846657e-03</td>\n",
       "    </tr>\n",
       "    <tr>\n",
       "      <th>WALLSMATERIAL_MODE_Stone, brick</th>\n",
       "      <td>1.170524e-01</td>\n",
       "      <td>1.185491e-03</td>\n",
       "      <td>-2.903956e-02</td>\n",
       "    </tr>\n",
       "    <tr>\n",
       "      <th>WALLSMATERIAL_MODE_Wooden</th>\n",
       "      <td>1.675176e-02</td>\n",
       "      <td>-3.420136e-04</td>\n",
       "      <td>-3.013009e-02</td>\n",
       "    </tr>\n",
       "    <tr>\n",
       "      <th>EMERGENCYSTATE_MODE_No</th>\n",
       "      <td>2.319749e-01</td>\n",
       "      <td>4.441906e-03</td>\n",
       "      <td>-1.502567e-02</td>\n",
       "    </tr>\n",
       "    <tr>\n",
       "      <th>EMERGENCYSTATE_MODE_Yes</th>\n",
       "      <td>5.353783e-03</td>\n",
       "      <td>-4.937134e-04</td>\n",
       "      <td>-1.941909e-02</td>\n",
       "    </tr>\n",
       "  </tbody>\n",
       "</table>\n",
       "<p>216 rows × 3 columns</p>\n",
       "</div>"
      ],
      "text/plain": [
       "                                                  PC-1          PC-2  \\\n",
       "CNT_CHILDREN                             -1.323870e-02  1.313757e-01   \n",
       "AMT_INCOME_TOTAL                          1.633009e-02  4.441870e-02   \n",
       "AMT_CREDIT                                2.160830e-02  5.834712e-02   \n",
       "AMT_ANNUITY                               2.370739e-02  7.791357e-02   \n",
       "AMT_GOODS_PRICE                           2.259530e-02  5.894310e-02   \n",
       "REGION_POPULATION_RELATIVE                4.286521e-02  1.558073e-02   \n",
       "DAYS_BIRTH                               -9.874085e-03  2.695057e-01   \n",
       "DAYS_EMPLOYED                             1.135157e-03 -3.504997e-01   \n",
       "DAYS_REGISTRATION                        -2.027211e-02  1.133752e-01   \n",
       "DAYS_ID_PUBLISH                          -5.670754e-03  1.115713e-01   \n",
       "OWN_CAR_AGE                              -1.391715e-02  8.570193e-02   \n",
       "FLAG_MOBIL                                1.972593e-24  1.227652e-21   \n",
       "FLAG_EMP_PHONE                           -1.268435e-03  3.509470e-01   \n",
       "FLAG_WORK_PHONE                          -1.746604e-02  9.797743e-02   \n",
       "FLAG_CONT_MOBILE                         -2.938879e-03 -6.905485e-03   \n",
       "FLAG_PHONE                                1.960497e-02 -3.217050e-03   \n",
       "FLAG_EMAIL                                1.309740e-02  3.652489e-02   \n",
       "CNT_FAM_MEMBERS                          -2.023631e-02  1.372527e-01   \n",
       "REGION_RATING_CLIENT                     -4.598724e-02 -3.077178e-02   \n",
       "REGION_RATING_CLIENT_W_CITY              -5.543429e-02 -3.128996e-02   \n",
       "HOUR_APPR_PROCESS_START                   2.134849e-02  5.006938e-02   \n",
       "REG_REGION_NOT_LIVE_REGION               -7.068739e-03  3.687664e-02   \n",
       "REG_REGION_NOT_WORK_REGION               -6.322831e-03  8.115618e-02   \n",
       "LIVE_REGION_NOT_WORK_REGION              -1.987057e-03  7.238815e-02   \n",
       "REG_CITY_NOT_LIVE_CITY                   -4.569152e-02  6.077683e-02   \n",
       "REG_CITY_NOT_WORK_CITY                   -7.718866e-02  1.380451e-01   \n",
       "LIVE_CITY_NOT_WORK_CITY                  -6.024284e-02  1.186998e-01   \n",
       "EXT_SOURCE_1                              1.594133e-02  7.747252e-02   \n",
       "EXT_SOURCE_2                              3.606693e-02  1.444742e-02   \n",
       "EXT_SOURCE_3                              6.958289e-03 -1.588669e-02   \n",
       "...                                                ...           ...   \n",
       "ORGANIZATION_TYPE_Telecom                 1.680628e-03  8.355892e-03   \n",
       "ORGANIZATION_TYPE_Trade: type 1           1.365240e-03  5.489345e-03   \n",
       "ORGANIZATION_TYPE_Trade: type 2           3.768413e-03  2.138048e-02   \n",
       "ORGANIZATION_TYPE_Trade: type 3           2.988680e-04  1.818277e-02   \n",
       "ORGANIZATION_TYPE_Trade: type 4           4.381507e-04  3.390699e-03   \n",
       "ORGANIZATION_TYPE_Trade: type 5           6.549750e-04  1.036798e-03   \n",
       "ORGANIZATION_TYPE_Trade: type 6           2.101581e-03  6.138349e-03   \n",
       "ORGANIZATION_TYPE_Trade: type 7          -1.633860e-03  2.141917e-02   \n",
       "ORGANIZATION_TYPE_Transport: type 1      -4.317417e-04  4.633276e-03   \n",
       "ORGANIZATION_TYPE_Transport: type 2      -5.250290e-04  1.805815e-02   \n",
       "ORGANIZATION_TYPE_Transport: type 3      -1.476196e-03  1.378447e-02   \n",
       "ORGANIZATION_TYPE_Transport: type 4       2.837734e-03  2.905353e-02   \n",
       "ORGANIZATION_TYPE_University              4.775488e-03  8.161988e-03   \n",
       "ORGANIZATION_TYPE_XNA                     1.261160e-03 -3.509906e-01   \n",
       "FONDKAPREMONT_MODE_not specified          4.093580e-02  5.056557e-03   \n",
       "FONDKAPREMONT_MODE_org spec account       4.275634e-02  2.266803e-03   \n",
       "FONDKAPREMONT_MODE_reg oper account       1.753326e-01  5.113221e-03   \n",
       "FONDKAPREMONT_MODE_reg oper spec account  6.185340e-02  1.108238e-03   \n",
       "HOUSETYPE_MODE_block of flats             2.354640e-01  4.824622e-03   \n",
       "HOUSETYPE_MODE_specific housing           1.207016e-02  3.463742e-03   \n",
       "HOUSETYPE_MODE_terraced house             8.214178e-03  6.647090e-04   \n",
       "WALLSMATERIAL_MODE_Block                  4.334550e-02 -1.373860e-03   \n",
       "WALLSMATERIAL_MODE_Mixed                  1.748217e-02  1.774929e-03   \n",
       "WALLSMATERIAL_MODE_Monolithic             2.274465e-02  8.815007e-03   \n",
       "WALLSMATERIAL_MODE_Others                 1.526910e-02  1.382708e-03   \n",
       "WALLSMATERIAL_MODE_Panel                  1.398419e-01  3.471789e-03   \n",
       "WALLSMATERIAL_MODE_Stone, brick           1.170524e-01  1.185491e-03   \n",
       "WALLSMATERIAL_MODE_Wooden                 1.675176e-02 -3.420136e-04   \n",
       "EMERGENCYSTATE_MODE_No                    2.319749e-01  4.441906e-03   \n",
       "EMERGENCYSTATE_MODE_Yes                   5.353783e-03 -4.937134e-04   \n",
       "\n",
       "                                                  PC-3  \n",
       "CNT_CHILDREN                             -2.725040e-03  \n",
       "AMT_INCOME_TOTAL                          1.156386e-01  \n",
       "AMT_CREDIT                                3.081243e-01  \n",
       "AMT_ANNUITY                               3.007094e-01  \n",
       "AMT_GOODS_PRICE                           3.097671e-01  \n",
       "REGION_POPULATION_RELATIVE                1.501054e-01  \n",
       "DAYS_BIRTH                               -1.189967e-01  \n",
       "DAYS_EMPLOYED                             1.129891e-01  \n",
       "DAYS_REGISTRATION                        -2.230592e-02  \n",
       "DAYS_ID_PUBLISH                          -8.344801e-02  \n",
       "OWN_CAR_AGE                               1.734585e-01  \n",
       "FLAG_MOBIL                                5.106846e-20  \n",
       "FLAG_EMP_PHONE                           -1.134117e-01  \n",
       "FLAG_WORK_PHONE                          -5.024215e-02  \n",
       "FLAG_CONT_MOBILE                          8.713983e-03  \n",
       "FLAG_PHONE                                3.320417e-02  \n",
       "FLAG_EMAIL                                2.698900e-02  \n",
       "CNT_FAM_MEMBERS                           5.930901e-02  \n",
       "REGION_RATING_CLIENT                     -1.703489e-01  \n",
       "REGION_RATING_CLIENT_W_CITY              -1.686095e-01  \n",
       "HOUR_APPR_PROCESS_START                   5.850878e-02  \n",
       "REG_REGION_NOT_LIVE_REGION                2.150525e-02  \n",
       "REG_REGION_NOT_WORK_REGION                7.901036e-02  \n",
       "LIVE_REGION_NOT_WORK_REGION               8.585073e-02  \n",
       "REG_CITY_NOT_LIVE_CITY                   -3.430686e-02  \n",
       "REG_CITY_NOT_WORK_CITY                   -1.817820e-02  \n",
       "LIVE_CITY_NOT_WORK_CITY                   9.167389e-03  \n",
       "EXT_SOURCE_1                             -7.177324e-03  \n",
       "EXT_SOURCE_2                              1.313524e-01  \n",
       "EXT_SOURCE_3                              4.877552e-02  \n",
       "...                                                ...  \n",
       "ORGANIZATION_TYPE_Telecom                 1.175097e-03  \n",
       "ORGANIZATION_TYPE_Trade: type 1          -1.011851e-02  \n",
       "ORGANIZATION_TYPE_Trade: type 2          -9.477832e-03  \n",
       "ORGANIZATION_TYPE_Trade: type 3          -2.208673e-02  \n",
       "ORGANIZATION_TYPE_Trade: type 4          -4.734753e-04  \n",
       "ORGANIZATION_TYPE_Trade: type 5          -3.714198e-03  \n",
       "ORGANIZATION_TYPE_Trade: type 6          -2.541002e-03  \n",
       "ORGANIZATION_TYPE_Trade: type 7          -3.503364e-02  \n",
       "ORGANIZATION_TYPE_Transport: type 1       4.423619e-04  \n",
       "ORGANIZATION_TYPE_Transport: type 2       1.265155e-04  \n",
       "ORGANIZATION_TYPE_Transport: type 3       1.847652e-02  \n",
       "ORGANIZATION_TYPE_Transport: type 4       2.589979e-02  \n",
       "ORGANIZATION_TYPE_University              4.191327e-03  \n",
       "ORGANIZATION_TYPE_XNA                     1.133660e-01  \n",
       "FONDKAPREMONT_MODE_not specified         -4.833365e-03  \n",
       "FONDKAPREMONT_MODE_org spec account       4.656090e-03  \n",
       "FONDKAPREMONT_MODE_reg oper account      -1.318781e-02  \n",
       "FONDKAPREMONT_MODE_reg oper spec account -1.309849e-02  \n",
       "HOUSETYPE_MODE_block of flats            -1.589667e-02  \n",
       "HOUSETYPE_MODE_specific housing          -2.004460e-02  \n",
       "HOUSETYPE_MODE_terraced house            -4.993837e-03  \n",
       "WALLSMATERIAL_MODE_Block                  4.040469e-03  \n",
       "WALLSMATERIAL_MODE_Mixed                  1.509310e-03  \n",
       "WALLSMATERIAL_MODE_Monolithic             2.640691e-02  \n",
       "WALLSMATERIAL_MODE_Others                 6.622759e-04  \n",
       "WALLSMATERIAL_MODE_Panel                  7.846657e-03  \n",
       "WALLSMATERIAL_MODE_Stone, brick          -2.903956e-02  \n",
       "WALLSMATERIAL_MODE_Wooden                -3.013009e-02  \n",
       "EMERGENCYSTATE_MODE_No                   -1.502567e-02  \n",
       "EMERGENCYSTATE_MODE_Yes                  -1.941909e-02  \n",
       "\n",
       "[216 rows x 3 columns]"
      ]
     },
     "execution_count": 40,
     "metadata": {},
     "output_type": "execute_result"
    }
   ],
   "source": [
    "PCs"
   ]
  },
  {
   "cell_type": "code",
   "execution_count": 41,
   "metadata": {},
   "outputs": [
    {
     "data": {
      "text/plain": [
       "['FLOORSMAX_AVG',\n",
       " 'ENTRANCES_AVG',\n",
       " 'APARTMENTS_AVG',\n",
       " 'LIVINGAREA_AVG',\n",
       " 'TOTALAREA_MODE']"
      ]
     },
     "execution_count": 41,
     "metadata": {},
     "output_type": "execute_result"
    }
   ],
   "source": [
    "PC_1= PCs.nlargest(5, 'PC-1')\n",
    "PC_1.index.tolist()"
   ]
  },
  {
   "cell_type": "code",
   "execution_count": 42,
   "metadata": {},
   "outputs": [
    {
     "data": {
      "text/plain": [
       "['FLAG_EMP_PHONE',\n",
       " 'DAYS_BIRTH',\n",
       " 'NAME_INCOME_TYPE_Working',\n",
       " 'REG_CITY_NOT_WORK_CITY',\n",
       " 'CNT_FAM_MEMBERS']"
      ]
     },
     "execution_count": 42,
     "metadata": {},
     "output_type": "execute_result"
    }
   ],
   "source": [
    "PC_2= PCs.nlargest(5, 'PC-2')\n",
    "PC_2.index.tolist()"
   ]
  },
  {
   "cell_type": "code",
   "execution_count": 43,
   "metadata": {},
   "outputs": [
    {
     "data": {
      "text/plain": [
       "['AMT_GOODS_PRICE',\n",
       " 'AMT_CREDIT',\n",
       " 'AMT_ANNUITY',\n",
       " 'FLAG_OWN_CAR_Y',\n",
       " 'CODE_GENDER_M']"
      ]
     },
     "execution_count": 43,
     "metadata": {},
     "output_type": "execute_result"
    }
   ],
   "source": [
    "PC_3= PCs.nlargest(5, 'PC-3')\n",
    "PC_3.index.tolist()"
   ]
  },
  {
   "cell_type": "code",
   "execution_count": null,
   "metadata": {},
   "outputs": [],
   "source": []
  }
 ],
 "metadata": {
  "kernelspec": {
   "display_name": "Python 3",
   "language": "python",
   "name": "python3"
  },
  "language_info": {
   "codemirror_mode": {
    "name": "ipython",
    "version": 3
   },
   "file_extension": ".py",
   "mimetype": "text/x-python",
   "name": "python",
   "nbconvert_exporter": "python",
   "pygments_lexer": "ipython3",
   "version": "3.7.3"
  }
 },
 "nbformat": 4,
 "nbformat_minor": 2
}
